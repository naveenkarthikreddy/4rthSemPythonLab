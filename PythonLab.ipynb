{
  "nbformat": 4,
  "nbformat_minor": 0,
  "metadata": {
    "colab": {
      "name": "PythonLab.ipynb",
      "provenance": [],
      "authorship_tag": "ABX9TyMaElzo3R4/WCrRRjxjkesm",
      "include_colab_link": true
    },
    "kernelspec": {
      "name": "python3",
      "display_name": "Python 3"
    }
  },
  "cells": [
    {
      "cell_type": "markdown",
      "metadata": {
        "id": "view-in-github",
        "colab_type": "text"
      },
      "source": [
        "<a href=\"https://colab.research.google.com/github/naveenkarthikreddy/4rthSemPythonLab/blob/main/PythonLab.ipynb\" target=\"_parent\"><img src=\"https://colab.research.google.com/assets/colab-badge.svg\" alt=\"Open In Colab\"/></a>"
      ]
    },
    {
      "cell_type": "markdown",
      "metadata": {
        "id": "y_XkQcuq_ehM"
      },
      "source": [
        "PYTHON PROGRAMMING LAB \n",
        "(19CT1106)"
      ]
    },
    {
      "cell_type": "markdown",
      "metadata": {
        "id": "M_HP1H7nApv_"
      },
      "source": [
        "K.NAVEEN KARTHIK REDDY \n",
        "(19131A0498)"
      ]
    },
    {
      "cell_type": "markdown",
      "metadata": {
        "id": "77ldDKJ2_5G8"
      },
      "source": [
        "LIST OF EXPERIMENTS:\n"
      ]
    },
    {
      "cell_type": "markdown",
      "metadata": {
        "id": "4P7L6Slq__a_"
      },
      "source": [
        "WEEK1 Input and output\n"
      ]
    },
    {
      "cell_type": "markdown",
      "metadata": {
        "id": "FBhYrrIJAaoN"
      },
      "source": [
        "(a) Print the \"Python\" for 1, print \"Day - 1\" for 2. By changing the variable \"look\" for\n",
        "each statement\n"
      ]
    },
    {
      "cell_type": "code",
      "metadata": {
        "id": "NUx5pPIp_d4m",
        "colab": {
          "base_uri": "https://localhost:8080/"
        },
        "outputId": "22497261-5a36-4767-9876-0cbe2024315b"
      },
      "source": [
        "look=int(input(\"enter 0 or 1 only  \"))\n",
        "if (look==0):\n",
        "  print(\"Python\")\n",
        "elif(look==1):\n",
        "  print(\"Day-1\")\n",
        "else:\n",
        "  print(\"Wrong entry ! please enter o or 1 only\")    "
      ],
      "execution_count": null,
      "outputs": [
        {
          "output_type": "stream",
          "text": [
            "enter 0 or 1 only  1\n",
            "Day-1\n"
          ],
          "name": "stdout"
        }
      ]
    },
    {
      "cell_type": "markdown",
      "metadata": {
        "id": "p4Ap_v5_BjUg"
      },
      "source": [
        "(b)Create a variable \"number\" and assign an Integer to the number. Check the assigned\n",
        "Integer is \"Positive\" or \"Negative\".\n"
      ]
    },
    {
      "cell_type": "code",
      "metadata": {
        "id": "IYOJuMFUBm4S",
        "colab": {
          "base_uri": "https://localhost:8080/"
        },
        "outputId": "0913a05f-a736-4901-e7e9-88ffbc862852"
      },
      "source": [
        "number=int(input(\"enter any number   \"))\n",
        "if(number>0):\n",
        "  print(\"Given number is possitive\")\n",
        "elif(number<0):\n",
        "  print(\"Given number is negative\")\n",
        "else:\n",
        "  print(\"Given number is neither possitive nor negative\")    "
      ],
      "execution_count": null,
      "outputs": [
        {
          "output_type": "stream",
          "text": [
            "enter any number   -1\n",
            "Given number is negative\n"
          ],
          "name": "stdout"
        }
      ]
    },
    {
      "cell_type": "markdown",
      "metadata": {
        "id": "2KMM0UATCnt4"
      },
      "source": [
        "(c) Write a program to find the largest element among three Numbers"
      ]
    },
    {
      "cell_type": "code",
      "metadata": {
        "id": "dSxwdHZOCrCq",
        "colab": {
          "base_uri": "https://localhost:8080/"
        },
        "outputId": "10908ff1-e1bf-4db3-8c32-31d4fa5e8574"
      },
      "source": [
        "a,b,c=input().split()\n",
        "largestNumber=a if a>b and a>c else b if b>c else c\n",
        "print(largestNumber)"
      ],
      "execution_count": null,
      "outputs": [
        {
          "output_type": "stream",
          "text": [
            "2 5 4\n",
            "5\n"
          ],
          "name": "stdout"
        }
      ]
    },
    {
      "cell_type": "markdown",
      "metadata": {
        "id": "ZxGhE0DfFQM8"
      },
      "source": [
        "(d) Write a program to print the sum of all the even numbers in the range 1 - 50 and print\n",
        "the even sum.\n"
      ]
    },
    {
      "cell_type": "code",
      "metadata": {
        "id": "Ju5Qn9s4FVNo",
        "colab": {
          "base_uri": "https://localhost:8080/"
        },
        "outputId": "475c85f2-b59b-436c-df2f-fcb8247a8168"
      },
      "source": [
        "evenSum=0\n",
        "for i in range(1,51):\n",
        "  if (i%2==-0):\n",
        "    evenSum+=i\n",
        "print(evenSum)    "
      ],
      "execution_count": 15,
      "outputs": [
        {
          "output_type": "stream",
          "text": [
            "650\n"
          ],
          "name": "stdout"
        }
      ]
    },
    {
      "cell_type": "markdown",
      "metadata": {
        "id": "7bqwcCDTGRoW"
      },
      "source": [
        "(e) Write a Program to display all prime numbers within an interval of 20 and 50.\n"
      ]
    },
    {
      "cell_type": "code",
      "metadata": {
        "id": "1UPDOHC1GWzl",
        "colab": {
          "base_uri": "https://localhost:8080/"
        },
        "outputId": "c92623b2-0275-4a97-f219-fdd3727c6ab9"
      },
      "source": [
        "from math import *\n",
        "def checkIfPrime(num):\n",
        "  for i in range(2,int(sqrt(num))+1):\n",
        "    if num%i==0:\n",
        "      break\n",
        "  else:\n",
        "    print(num) \n",
        "for i in range(20,51):\n",
        "  checkIfPrime(i)\n",
        " "
      ],
      "execution_count": 17,
      "outputs": [
        {
          "output_type": "stream",
          "text": [
            "23\n",
            "29\n",
            "31\n",
            "37\n",
            "41\n",
            "43\n",
            "47\n"
          ],
          "name": "stdout"
        }
      ]
    },
    {
      "cell_type": "markdown",
      "metadata": {
        "id": "NIaadIbyJBEU"
      },
      "source": [
        "WEEK2 Variables and Functions"
      ]
    },
    {
      "cell_type": "markdown",
      "metadata": {
        "id": "MuiCqVAyJGCN"
      },
      "source": [
        "a. Write a program to swap two numbers without using a temporary variable.\n"
      ]
    },
    {
      "cell_type": "code",
      "metadata": {
        "id": "hDoTBfCAJLeq",
        "colab": {
          "base_uri": "https://localhost:8080/"
        },
        "outputId": "7c1cc785-3c7b-43fe-964b-0026c8b9d678"
      },
      "source": [
        "a,b=input().split()\n",
        "a,b=b,a\n",
        "print(a)\n",
        "print(b)"
      ],
      "execution_count": 18,
      "outputs": [
        {
          "output_type": "stream",
          "text": [
            "5 4\n",
            "4\n",
            "5\n"
          ],
          "name": "stdout"
        }
      ]
    },
    {
      "cell_type": "markdown",
      "metadata": {
        "id": "CTmMJMi-Jnn5"
      },
      "source": [
        "b. Write a program to define a function with multiple return values"
      ]
    },
    {
      "cell_type": "code",
      "metadata": {
        "id": "Q0Fk15WQJrb9",
        "colab": {
          "base_uri": "https://localhost:8080/"
        },
        "outputId": "7f76f165-1e34-4328-8d3b-9764051c4ab2"
      },
      "source": [
        "def add_sub(a,b):\n",
        "  sum=a+b\n",
        "  sub=a-b\n",
        "  return sum,sub\n",
        "sum,sub=add_sub(4,2)\n",
        "print(sum)\n",
        "print(sub)"
      ],
      "execution_count": 19,
      "outputs": [
        {
          "output_type": "stream",
          "text": [
            "6\n",
            "2\n"
          ],
          "name": "stdout"
        }
      ]
    },
    {
      "cell_type": "markdown",
      "metadata": {
        "id": "33OKAk5kv7Ak"
      },
      "source": [
        "c. Write a program which creates an adder given a value (Use only lambda).\n"
      ]
    },
    {
      "cell_type": "code",
      "metadata": {
        "id": "cq2eBVfpwDip",
        "colab": {
          "base_uri": "https://localhost:8080/"
        },
        "outputId": "3d2a6b00-d7dc-4fba-8eeb-faacd7e6bb24"
      },
      "source": [
        "adder=lambda a,b :a+b\n",
        "adder(2,4)"
      ],
      "execution_count": 20,
      "outputs": [
        {
          "output_type": "execute_result",
          "data": {
            "text/plain": [
              "6"
            ]
          },
          "metadata": {
            "tags": []
          },
          "execution_count": 20
        }
      ]
    },
    {
      "cell_type": "markdown",
      "metadata": {
        "id": "9o0uwztPw3gj"
      },
      "source": [
        "d. Write a program to define a function using default arguments."
      ]
    },
    {
      "cell_type": "code",
      "metadata": {
        "id": "ciZhCpILw7cv",
        "colab": {
          "base_uri": "https://localhost:8080/"
        },
        "outputId": "63bfc8d5-8515-46d6-cff5-ed495d266bef"
      },
      "source": [
        "def default_args(a=\"python\",b=\"lab\"):\n",
        "  print(a)\n",
        "  print(b)\n",
        "default_args()\n",
        "default_args(\"gvp\",\"vizag\")"
      ],
      "execution_count": 21,
      "outputs": [
        {
          "output_type": "stream",
          "text": [
            "python\n",
            "lab\n",
            "gvp\n",
            "vizag\n"
          ],
          "name": "stdout"
        }
      ]
    },
    {
      "cell_type": "markdown",
      "metadata": {
        "id": "N6joplE6xsmi"
      },
      "source": [
        "WEEK3 Loops and conditionals\n",
        "\n"
      ]
    },
    {
      "cell_type": "markdown",
      "metadata": {
        "id": "Y95612eex7i3"
      },
      "source": [
        "a. Write a program to print the following patterns using loop:\n",
        "*\n",
        "**\n",
        "***\n",
        "****"
      ]
    },
    {
      "cell_type": "code",
      "metadata": {
        "id": "QVsOTq9Rx-uB",
        "colab": {
          "base_uri": "https://localhost:8080/"
        },
        "outputId": "61aa220b-7fdc-4053-c021-52eff9406970"
      },
      "source": [
        "for i in range(1,5):\n",
        "  print(\"*\"*i)"
      ],
      "execution_count": 22,
      "outputs": [
        {
          "output_type": "stream",
          "text": [
            "*\n",
            "**\n",
            "***\n",
            "****\n"
          ],
          "name": "stdout"
        }
      ]
    },
    {
      "cell_type": "markdown",
      "metadata": {
        "id": "XfXTxhhVyWnm"
      },
      "source": [
        "b. Write a program to print multiplication tables of 8, 15, 69.\n"
      ]
    },
    {
      "cell_type": "code",
      "metadata": {
        "id": "3sFRzQF_yYqm",
        "colab": {
          "base_uri": "https://localhost:8080/"
        },
        "outputId": "1eaa350c-3c05-4f5c-ec8a-3fff0c9c2c8e"
      },
      "source": [
        "def tables(n,limit):\n",
        "  for i in range(1,limit+1):\n",
        "    print(n,\"*\",i,\"=\",n*i)\n",
        "  print()  \n",
        "\n",
        "NoOfTimes=10\n",
        "tables(8,NoOfTimes)\n",
        "tables(15,NoOfTimes)\n",
        "tables(69,NoOfTimes)"
      ],
      "execution_count": 23,
      "outputs": [
        {
          "output_type": "stream",
          "text": [
            "8 * 1 = 8\n",
            "8 * 2 = 16\n",
            "8 * 3 = 24\n",
            "8 * 4 = 32\n",
            "8 * 5 = 40\n",
            "8 * 6 = 48\n",
            "8 * 7 = 56\n",
            "8 * 8 = 64\n",
            "8 * 9 = 72\n",
            "8 * 10 = 80\n",
            "\n",
            "15 * 1 = 15\n",
            "15 * 2 = 30\n",
            "15 * 3 = 45\n",
            "15 * 4 = 60\n",
            "15 * 5 = 75\n",
            "15 * 6 = 90\n",
            "15 * 7 = 105\n",
            "15 * 8 = 120\n",
            "15 * 9 = 135\n",
            "15 * 10 = 150\n",
            "\n",
            "69 * 1 = 69\n",
            "69 * 2 = 138\n",
            "69 * 3 = 207\n",
            "69 * 4 = 276\n",
            "69 * 5 = 345\n",
            "69 * 6 = 414\n",
            "69 * 7 = 483\n",
            "69 * 8 = 552\n",
            "69 * 9 = 621\n",
            "69 * 10 = 690\n",
            "\n"
          ],
          "name": "stdout"
        }
      ]
    },
    {
      "cell_type": "markdown",
      "metadata": {
        "id": "PIDYA_ke23vR"
      },
      "source": [
        "WEEK4 Strings"
      ]
    },
    {
      "cell_type": "markdown",
      "metadata": {
        "id": "PHnZb4zc28XY"
      },
      "source": [
        "a. Write a program to find the length of the string without using any library functions\n"
      ]
    },
    {
      "cell_type": "code",
      "metadata": {
        "id": "sb3kg6TvH4lU",
        "colab": {
          "base_uri": "https://localhost:8080/"
        },
        "outputId": "9773856b-30ed-4f0d-dd6c-01e4766407a5"
      },
      "source": [
        "def length(string):\n",
        "  length=0\n",
        "  for i in string:\n",
        "    length+=1\n",
        "  print(length)\n",
        "\n",
        "length(\"GVPCE\")    "
      ],
      "execution_count": 24,
      "outputs": [
        {
          "output_type": "stream",
          "text": [
            "5\n"
          ],
          "name": "stdout"
        }
      ]
    },
    {
      "cell_type": "markdown",
      "metadata": {
        "id": "AYEagast28aE"
      },
      "source": [
        "b. Write a program to check if two strings are anagrams or not.\n"
      ]
    },
    {
      "cell_type": "code",
      "metadata": {
        "id": "atr52KOp3D6v",
        "colab": {
          "base_uri": "https://localhost:8080/"
        },
        "outputId": "0c75c15a-457c-4a2e-e6bd-7797afe9ae5f"
      },
      "source": [
        "def anagram(s1,s2):\n",
        "  s1=sorted(s1.lower())\n",
        "  s2=sorted(s2.lower())\n",
        "  return s1==s2\n",
        "# anagram(\"piG\",\"g i p\")\n",
        "anagram(\"pig\",\"gip\")"
      ],
      "execution_count": 25,
      "outputs": [
        {
          "output_type": "execute_result",
          "data": {
            "text/plain": [
              "True"
            ]
          },
          "metadata": {
            "tags": []
          },
          "execution_count": 25
        }
      ]
    },
    {
      "cell_type": "markdown",
      "metadata": {
        "id": "9wB_-JirA8yu"
      },
      "source": [
        "c. Write a program to check if the substring is present in a given string or not. (use regular\n",
        "expressions)"
      ]
    },
    {
      "cell_type": "code",
      "metadata": {
        "id": "gZKYnIF5kzoG",
        "colab": {
          "base_uri": "https://localhost:8080/"
        },
        "outputId": "9d8ad65d-96b5-4254-e0e8-52b101b4e351"
      },
      "source": [
        "import re\n",
        "\n",
        "Str = input(\"enter the string   \")\n",
        "subStr=input(\"enter the substring   \")\n",
        "x = re.findall(subStr, Str)\n",
        "if(len(x)!=0):\n",
        "  print(\"substring is present in a given string \")\n",
        "else:\n",
        "  print(\"not here\")    \n"
      ],
      "execution_count": 27,
      "outputs": [
        {
          "output_type": "stream",
          "text": [
            "enter the string   this is python regular expressions\n",
            "enter the substring   regular\n",
            "substring is present in a given string \n"
          ],
          "name": "stdout"
        }
      ]
    },
    {
      "cell_type": "markdown",
      "metadata": {
        "id": "ItRDfXypXocK"
      },
      "source": [
        "WEEK5 lists"
      ]
    },
    {
      "cell_type": "markdown",
      "metadata": {
        "id": "XdoFXB9hXg-5"
      },
      "source": [
        "a. Write a program to perform the given operations on a list:\n",
        "i. add ii. insert iii. slicing\n"
      ]
    },
    {
      "cell_type": "code",
      "metadata": {
        "id": "ZR5r_IJCA__f",
        "colab": {
          "base_uri": "https://localhost:8080/"
        },
        "outputId": "c7a7d741-3913-498c-de48-ec4034b76ea4"
      },
      "source": [
        "def add(listt,value):\n",
        "  listt.append(value)\n",
        "  print(listt)\n",
        "\n",
        "def insert(listt,indexNumber,value):\n",
        "  listt[indexNumber]=value\n",
        "  print(listt)\n",
        "\n",
        "def slicing(listt,startingIndex,endingIndex):\n",
        "\n",
        "  slicedList=listt[startingIndex:endingIndex:]\n",
        "  print(slicedList)\n",
        "\n",
        "listt=[2,3,2,3,43,4]\n",
        "slicing(listt,3,6)\n",
        "insert(listt,4,3333)\n",
        "add(listt,444)\n",
        "\n"
      ],
      "execution_count": 28,
      "outputs": [
        {
          "output_type": "stream",
          "text": [
            "[3, 43, 4]\n",
            "[2, 3, 2, 3, 3333, 4]\n",
            "[2, 3, 2, 3, 3333, 4, 444]\n"
          ],
          "name": "stdout"
        }
      ]
    },
    {
      "cell_type": "markdown",
      "metadata": {
        "id": "wbVQLfuCaB9p"
      },
      "source": [
        "b. Write a program to perform any 5 built-in functions by taking any list"
      ]
    },
    {
      "cell_type": "code",
      "metadata": {
        "colab": {
          "base_uri": "https://localhost:8080/"
        },
        "id": "SynF-VePpiQT",
        "outputId": "f5b98d63-73e6-477b-bd5e-ac55f6c2c394"
      },
      "source": [
        "l=[2,5,4,5,3,2,8]\n",
        "print(\"maximum number is : \",max(l))\n",
        "print(\"minimum number is : \",min(l))\n",
        "print(\"added 333 to the given list : \",l.append(333))\n",
        "print(\"deleted 333 from the given list : \",l.pop())\n",
        "# pop will delete the last element added to the list\n",
        "print(\"sorted list :  \",l.sort())"
      ],
      "execution_count": 42,
      "outputs": [
        {
          "output_type": "stream",
          "text": [
            "maximum number is :  8\n",
            "minimum number is :  2\n",
            "added 333 to the given list :  None\n",
            "deleted 333 from the given list :  333\n",
            "sorted list :   None\n"
          ],
          "name": "stdout"
        }
      ]
    },
    {
      "cell_type": "markdown",
      "metadata": {
        "id": "gWqZB_9dcU9B"
      },
      "source": [
        "c. Write a program to get a list of the even numbers from a given list of numbers.(use\n",
        "only comprehensions)\n"
      ]
    },
    {
      "cell_type": "code",
      "metadata": {
        "id": "mORKGRIHcCsp",
        "colab": {
          "base_uri": "https://localhost:8080/"
        },
        "outputId": "fef3711e-6e98-4321-d10c-338002a14db1"
      },
      "source": [
        "l=eval(input())\n",
        "l=[x for x in l if int(x)%2==0 ]\n",
        "print(l)\n",
        "# [2,5,4,5,3,2,8]"
      ],
      "execution_count": 33,
      "outputs": [
        {
          "output_type": "stream",
          "text": [
            "[2,5,4,5,3,2,8]\n",
            "[2, 4, 2, 8]\n"
          ],
          "name": "stdout"
        }
      ]
    }
  ]
}