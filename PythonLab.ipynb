{
  "nbformat": 4,
  "nbformat_minor": 0,
  "metadata": {
    "colab": {
      "name": "PythonLab.ipynb",
      "provenance": [],
      "authorship_tag": "ABX9TyN8yA76WNv6nsF7dx7Dtk9F",
      "include_colab_link": true
    },
    "kernelspec": {
      "name": "python3",
      "display_name": "Python 3"
    }
  },
  "cells": [
    {
      "cell_type": "markdown",
      "metadata": {
        "id": "view-in-github",
        "colab_type": "text"
      },
      "source": [
        "<a href=\"https://colab.research.google.com/github/naveenkarthikreddy/4rthSemPythonLab/blob/main/PythonLab.ipynb\" target=\"_parent\"><img src=\"https://colab.research.google.com/assets/colab-badge.svg\" alt=\"Open In Colab\"/></a>"
      ]
    },
    {
      "cell_type": "markdown",
      "metadata": {
        "id": "y_XkQcuq_ehM"
      },
      "source": [
        "PYTHON PROGRAMMING LAB \r\n",
        "(19CT1106)"
      ]
    },
    {
      "cell_type": "markdown",
      "metadata": {
        "id": "M_HP1H7nApv_"
      },
      "source": [
        "K.NAVEEN KARTHIK REDDY \r\n",
        "(19131A0498)"
      ]
    },
    {
      "cell_type": "markdown",
      "metadata": {
        "id": "77ldDKJ2_5G8"
      },
      "source": [
        "LIST OF EXPERIMENTS:\r\n"
      ]
    },
    {
      "cell_type": "markdown",
      "metadata": {
        "id": "4P7L6Slq__a_"
      },
      "source": [
        "WEEK1 Input and output\r\n"
      ]
    },
    {
      "cell_type": "markdown",
      "metadata": {
        "id": "FBhYrrIJAaoN"
      },
      "source": [
        "(a) Print the \"Python\" for 1, print \"Day - 1\" for 2. By changing the variable \"look\" for\r\n",
        "each statement\r\n"
      ]
    },
    {
      "cell_type": "code",
      "metadata": {
        "id": "NUx5pPIp_d4m"
      },
      "source": [
        "look=int(input(\"enter 0 or 1 only\"))\r\n",
        "if (look==0):\r\n",
        "  print(\"Python\")\r\n",
        "elif(look==1):\r\n",
        "  print(\"Day-1\")\r\n",
        "else:\r\n",
        "  print(\"Wrong entry ! please enter o or 1 only\")    "
      ],
      "execution_count": null,
      "outputs": []
    },
    {
      "cell_type": "markdown",
      "metadata": {
        "id": "p4Ap_v5_BjUg"
      },
      "source": [
        "(b)Create a variable \"number\" and assign an Integer to the number. Check the assigned\r\n",
        "Integer is \"Positive\" or \"Negative\".\r\n"
      ]
    },
    {
      "cell_type": "code",
      "metadata": {
        "id": "IYOJuMFUBm4S"
      },
      "source": [
        "number=int(input(\"enter any number\"))\r\n",
        "if(number>0):\r\n",
        "  print(\"Given number is possitive\")\r\n",
        "elif(number<0):\r\n",
        "  print(\"Gvien number is negative\")\r\n",
        "else:\r\n",
        "  print(\"Given number is neither possitive nor negative\")    "
      ],
      "execution_count": null,
      "outputs": []
    },
    {
      "cell_type": "markdown",
      "metadata": {
        "id": "2KMM0UATCnt4"
      },
      "source": [
        "(c) Write a program to find the largest element among three Numbers"
      ]
    },
    {
      "cell_type": "code",
      "metadata": {
        "id": "dSxwdHZOCrCq"
      },
      "source": [
        "a,b,c=input().split()\r\n",
        "largestNumber=a if a>b and a>c else b if b>c else c\r\n",
        "print(largestNumber)"
      ],
      "execution_count": null,
      "outputs": []
    },
    {
      "cell_type": "markdown",
      "metadata": {
        "id": "ZxGhE0DfFQM8"
      },
      "source": [
        "(d) Write a program to print the sum of all the even numbers in the range 1 - 50 and print\r\n",
        "the even sum.\r\n"
      ]
    },
    {
      "cell_type": "code",
      "metadata": {
        "id": "Ju5Qn9s4FVNo"
      },
      "source": [
        "evenSum=0\r\n",
        "for i in range(1,51):\r\n",
        "  if (i%2==-0):\r\n",
        "    evenSum+=i\r\n",
        "print(evenSum)    "
      ],
      "execution_count": null,
      "outputs": []
    },
    {
      "cell_type": "markdown",
      "metadata": {
        "id": "7bqwcCDTGRoW"
      },
      "source": [
        "(e) Write a Program to display all prime numbers within an interval of 20 and 50.\r\n"
      ]
    },
    {
      "cell_type": "code",
      "metadata": {
        "id": "1UPDOHC1GWzl"
      },
      "source": [
        "from math import *\r\n",
        "for i in range(20,51):\r\n",
        "  checkIfPrime(i)\r\n",
        "def checkIfPrime(num):\r\n",
        "  for i in range(2,int(sqrt(num))+1):\r\n",
        "    if num%i==0:\r\n",
        "      break\r\n",
        "  else:\r\n",
        "    print(num)  "
      ],
      "execution_count": null,
      "outputs": []
    },
    {
      "cell_type": "markdown",
      "metadata": {
        "id": "NIaadIbyJBEU"
      },
      "source": [
        "WEEK2 Variables and Functions"
      ]
    },
    {
      "cell_type": "markdown",
      "metadata": {
        "id": "MuiCqVAyJGCN"
      },
      "source": [
        "a. Write a program to swap two numbers without using a temporary variable.\r\n"
      ]
    },
    {
      "cell_type": "code",
      "metadata": {
        "id": "hDoTBfCAJLeq"
      },
      "source": [
        "a,b=input().split()\r\n",
        "a,b=b,a\r\n",
        "print(a)\r\n",
        "print(b)"
      ],
      "execution_count": null,
      "outputs": []
    },
    {
      "cell_type": "markdown",
      "metadata": {
        "id": "CTmMJMi-Jnn5"
      },
      "source": [
        "b. Write a program to define a function with multiple return values"
      ]
    },
    {
      "cell_type": "code",
      "metadata": {
        "id": "Q0Fk15WQJrb9"
      },
      "source": [
        "def add_sub(a,b):\r\n",
        "  sum=a+b\r\n",
        "  sub=a-b\r\n",
        "  return sum,sub\r\n",
        "sum,sub=add_sub(4,2)\r\n",
        "print(sum)\r\n",
        "print(sub)"
      ],
      "execution_count": null,
      "outputs": []
    },
    {
      "cell_type": "markdown",
      "metadata": {
        "id": "33OKAk5kv7Ak"
      },
      "source": [
        "c. Write a program which creates an adder given a value (Use only lambda).\r\n"
      ]
    },
    {
      "cell_type": "code",
      "metadata": {
        "id": "cq2eBVfpwDip"
      },
      "source": [
        "adder=lambda a,b :a+b\r\n",
        "adder(2,4)"
      ],
      "execution_count": null,
      "outputs": []
    },
    {
      "cell_type": "markdown",
      "metadata": {
        "id": "9o0uwztPw3gj"
      },
      "source": [
        "d. Write a program to define a function using default arguments."
      ]
    },
    {
      "cell_type": "code",
      "metadata": {
        "id": "ciZhCpILw7cv"
      },
      "source": [
        "def default_args(a=\"python\",b=\"lab\"):\r\n",
        "  print(a)\r\n",
        "  print(b)\r\n",
        "default_args()\r\n",
        "default_args(\"gvp\",\"vizag\")"
      ],
      "execution_count": null,
      "outputs": []
    },
    {
      "cell_type": "markdown",
      "metadata": {
        "id": "N6joplE6xsmi"
      },
      "source": [
        "WEEK3 Loops and conditionals\r\n",
        "\r\n"
      ]
    },
    {
      "cell_type": "markdown",
      "metadata": {
        "id": "Y95612eex7i3"
      },
      "source": [
        "a. Write a program to print the following patterns using loop:\r\n",
        "*\r\n",
        "**\r\n",
        "***\r\n",
        "****"
      ]
    },
    {
      "cell_type": "code",
      "metadata": {
        "id": "QVsOTq9Rx-uB"
      },
      "source": [
        "for i in range(1,5):\r\n",
        "  print(\"*\"*i)"
      ],
      "execution_count": null,
      "outputs": []
    },
    {
      "cell_type": "markdown",
      "metadata": {
        "id": "XfXTxhhVyWnm"
      },
      "source": [
        "b. Write a program to print multiplication tables of 8, 15, 69.\r\n"
      ]
    },
    {
      "cell_type": "code",
      "metadata": {
        "id": "3sFRzQF_yYqm"
      },
      "source": [
        "def tables(n,limit):\r\n",
        "  for i in range(1,limit+1):\r\n",
        "    print(n,\"*\",i,\"=\",n*i)\r\n",
        "  print()  \r\n",
        "\r\n",
        "NoOfTimes=10\r\n",
        "tables(8,NoOfTimes)\r\n",
        "tables(15,NoOfTimes)\r\n",
        "tables(69,NoOfTimes)"
      ],
      "execution_count": null,
      "outputs": []
    },
    {
      "cell_type": "code",
      "metadata": {
        "id": "sb3kg6TvH4lU"
      },
      "source": [
        "print(\"this is python file\")"
      ],
      "execution_count": null,
      "outputs": []
    }
  ]
}